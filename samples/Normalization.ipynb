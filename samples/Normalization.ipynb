{
 "cells": [
  {
   "cell_type": "code",
   "execution_count": 1,
   "metadata": {},
   "outputs": [],
   "source": [
    "import pyfor\n",
    "import matplotlib.pyplot as plt"
   ]
  },
  {
   "cell_type": "markdown",
   "metadata": {},
   "source": [
    "## Normalization - The Basics\n",
    "\n",
    "One of the most integral parts of LiDAR analysis is normalizing the point cloud. This is done first by filtering ground points using one of many algorithms. **pyfor** currently implements the progressive morphological ground filter (Zhang et al. 2003) to achieve this.\n",
    "\n",
    "There are two ways to handle normalization. The first is to normalize the Cloud object. This will normalize the point cloud **in place**. We will soon see that this is just a wrapper for the lower level Grid functions."
   ]
  },
  {
   "cell_type": "code",
   "execution_count": 2,
   "metadata": {},
   "outputs": [],
   "source": [
    "# Load the point cloud\n",
    "# CHANGEME\n",
    "pc = pyfor.cloud.Cloud(\"my_las.las\")\n",
    "\n",
    "# Plot the raw cloud\n",
    "#pc.iplot3d(point_size=2)"
   ]
  },
  {
   "cell_type": "markdown",
   "metadata": {},
   "source": [
    "<img src=\"images/raw_iplot.png\" width=\"550\">"
   ]
  },
  {
   "cell_type": "code",
   "execution_count": 13,
   "metadata": {},
   "outputs": [],
   "source": [
    "# Call the normalization functions with some useful settings for the algorithm.\n",
    "pc.normalize(cell_size=0.4, num_windows=7, dh_0= 1, dh_max=2.5)"
   ]
  },
  {
   "cell_type": "markdown",
   "metadata": {},
   "source": [
    "<img src=\"images/norm_iplot.png\" width=\"550\">"
   ]
  },
  {
   "cell_type": "markdown",
   "metadata": {},
   "source": [
    "As we can see, the point cloud is now normalized and ready for metric extraction."
   ]
  },
  {
   "cell_type": "markdown",
   "metadata": {},
   "source": [
    "## Digging Deeper\n",
    "\n",
    "What would normalization be without a ground filter? Let's investigate the behavior of the ground filter below by digging deeper into pyfor.\n",
    "\n",
    "First, we need to set a coordinate reference system to the point cloud.\n",
    "\n",
    "The implementation of the Zhang et al. (2003) algorithm in pyfor is based off of a rasterized point cloud, specifically the minimum value of the `z` dimension in each cell, with missing values (i.e. empty cells) interpolated using a nearest neighbor algorithm. This is what the interpolated raster looks like: "
   ]
  },
  {
   "cell_type": "code",
   "execution_count": 7,
   "metadata": {},
   "outputs": [],
   "source": [
    "#  Reload an unnormalized point cloud\n",
    "#pc = pyfor.cloud.Cloud(\"my_las.las\")\n",
    "pc_grid = pc.grid(0.5)\n",
    "\n",
    "# Plot the interpolated array.\n",
    "interp_min = pc_grid.interpolate(\"min\", \"z\")\n",
    "#interp_min.plot()"
   ]
  },
  {
   "cell_type": "markdown",
   "metadata": {},
   "source": [
    "Clearly this is not the final product we desire. Just because a given minimum z value exists in a given cell does not mean that point represents the ground. This is where the progressive morphological filter kicks in: we need to filter these \"unlikely ground\" points from the raster. Here we can directly call the `ground_filter` implementation for our `pc_grid` Grid object. The argument values should look familiar."
   ]
  },
  {
   "cell_type": "code",
   "execution_count": 8,
   "metadata": {},
   "outputs": [],
   "source": [
    "bem = pc_grid.ground_filter(7, 2.5, 1)\n",
    "#bem.plot()"
   ]
  },
  {
   "cell_type": "markdown",
   "metadata": {},
   "source": [
    "If we are satisfied with the performance of our ground filter, we can save the bare earth model to disk."
   ]
  }
 ],
 "metadata": {
  "kernelspec": {
   "display_name": "Python 3",
   "language": "python",
   "name": "python3"
  },
  "language_info": {
   "codemirror_mode": {
    "name": "ipython",
    "version": 3
   },
   "file_extension": ".py",
   "mimetype": "text/x-python",
   "name": "python",
   "nbconvert_exporter": "python",
   "pygments_lexer": "ipython3",
   "version": "3.6.5"
  }
 },
 "nbformat": 4,
 "nbformat_minor": 2
}
