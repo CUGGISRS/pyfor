{
 "cells": [
  {
   "cell_type": "code",
   "execution_count": 1,
   "metadata": {},
   "outputs": [],
   "source": [
    "import pyfor\n",
    "import matplotlib.pyplot as plt"
   ]
  },
  {
   "cell_type": "markdown",
   "metadata": {},
   "source": [
    "## Normalization - The Basics\n",
    "\n",
    "One of the most integral parts of LiDAR analysis is normalizing the point cloud. This is done first by filtering ground points using one of many algorithms. **pyfor** currently implements the progressive morphological ground filter (Zhang et al. 2003) to achieve this.\n",
    "\n",
    "There are two ways to handle normalization. The first is to normalize the Cloud object. This will normalize the point cloud **in place**. We will soon see that this is just a wrapper for the lower level Grid functions."
   ]
  },
  {
   "cell_type": "code",
   "execution_count": 2,
   "metadata": {},
   "outputs": [],
   "source": [
    "# Load the point cloud\n",
    "# CHANGEME\n",
    "pc = pyfor.cloud.Cloud(\"my_las.las\")\n",
    "\n",
    "# Plot the raw cloud\n",
    "pc.iplot3d(point_size=2)"
   ]
  },
  {
   "cell_type": "markdown",
   "metadata": {},
   "source": [
    "<img src=\"images/raw_iplot.png\" width=\"550\">"
   ]
  },
  {
   "cell_type": "code",
   "execution_count": 13,
   "metadata": {},
   "outputs": [],
   "source": [
    "# Call the normalization functions with some useful settings for the algorithm.\n",
    "pc.normalize(cell_size=0.4, num_windows=7, dh_0= 1, dh_max=2.5)"
   ]
  },
  {
   "cell_type": "markdown",
   "metadata": {},
   "source": [
    "<img src=\"images/norm_iplot.png\" width=\"550\">"
   ]
  },
  {
   "cell_type": "markdown",
   "metadata": {},
   "source": [
    "As we can see, the point cloud is now normalized and ready for metric extraction."
   ]
  }
 ],
 "metadata": {
  "kernelspec": {
   "display_name": "Python [default]",
   "language": "python",
   "name": "python3"
  },
  "language_info": {
   "codemirror_mode": {
    "name": "ipython",
    "version": 3
   },
   "file_extension": ".py",
   "mimetype": "text/x-python",
   "name": "python",
   "nbconvert_exporter": "python",
   "pygments_lexer": "ipython3",
   "version": "3.6.5"
  }
 },
 "nbformat": 4,
 "nbformat_minor": 2
}
