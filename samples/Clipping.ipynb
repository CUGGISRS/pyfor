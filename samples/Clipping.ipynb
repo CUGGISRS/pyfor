{
 "cells": [
  {
   "cell_type": "code",
   "execution_count": 8,
   "metadata": {},
   "outputs": [
    {
     "data": {
      "text/plain": [
       "<pyfor.cloud.Cloud at 0x7f7b0a140e48>"
      ]
     },
     "execution_count": 8,
     "metadata": {},
     "output_type": "execute_result"
    }
   ],
   "source": [
    "import pyfor\n",
    "import geopandas as gpd\n",
    "\n",
    "pc = pyfor.cloud.Cloud(\"../pyfortest/data/test.las\")\n",
    "poly_frame = gpd.read_file(\"../pyfortest/data/clip.shp\")\n",
    "polygon = poly_frame[\"geometry\"].iloc[0]\n",
    "\n",
    "new_ppc.clip(polygon)"
   ]
  }
 ],
 "metadata": {
  "kernelspec": {
   "display_name": "Python (myenv)",
   "language": "python",
   "name": "myenv"
  },
  "language_info": {
   "codemirror_mode": {
    "name": "ipython",
    "version": 3
   },
   "file_extension": ".py",
   "mimetype": "text/x-python",
   "name": "python",
   "nbconvert_exporter": "python",
   "pygments_lexer": "ipython3",
   "version": "3.6.5"
  }
 },
 "nbformat": 4,
 "nbformat_minor": 2
}
